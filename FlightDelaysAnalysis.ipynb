{
 "cells": [
  {
   "cell_type": "code",
   "execution_count": 1,
   "metadata": {},
   "outputs": [],
   "source": [
    "import pandas as pd\n",
    "import numpy as np\n",
    "import os\n",
    "from datetime import datetime as dt\n",
    "import matplotlib.pyplot as plt\n",
    "import seaborn as sns\n",
    "\n",
    "pd.set_option(\"display.max_rows\", 200)"
   ]
  },
  {
   "cell_type": "code",
   "execution_count": 7,
   "metadata": {},
   "outputs": [],
   "source": [
    "def basics(df):\n",
    "    print(\"Row count: {:,}\".format(len(df)))\n",
    "    print(\"\\n\")"
   ]
  },
  {
   "cell_type": "code",
   "execution_count": 8,
   "metadata": {},
   "outputs": [
    {
     "name": "stdout",
     "output_type": "stream",
     "text": [
      "Row count: 14\n",
      "\n",
      "\n",
      "Row count: 322\n",
      "\n",
      "\n",
      "Row count: 5,819,079\n",
      "\n",
      "\n"
     ]
    }
   ],
   "source": [
    "df_airlines = pd.read_csv(\"Data/airlines.csv\")\n",
    "df_airports = pd.read_csv(\"Data/airports.csv\")\n",
    "df_flights = pd.read_csv(\"Data/flights_part_01.csv\", low_memory = False)\n",
    "for n in range(11):\n",
    "    df_flights = df_flights.append(\n",
    "        pd.read_csv(\"Data/flights_part_{}.csv\".format(\n",
    "            str(n+2).zfill(2)), low_memory = False))\n",
    "    \n",
    "basics(df_airlines)\n",
    "basics(df_airports)\n",
    "basics(df_flights)"
   ]
  },
  {
   "cell_type": "code",
   "execution_count": null,
   "metadata": {},
   "outputs": [],
   "source": []
  }
 ],
 "metadata": {
  "kernelspec": {
   "display_name": "Python 3",
   "language": "python",
   "name": "python3"
  },
  "language_info": {
   "codemirror_mode": {
    "name": "ipython",
    "version": 3
   },
   "file_extension": ".py",
   "mimetype": "text/x-python",
   "name": "python",
   "nbconvert_exporter": "python",
   "pygments_lexer": "ipython3",
   "version": "3.8.5"
  }
 },
 "nbformat": 4,
 "nbformat_minor": 4
}
