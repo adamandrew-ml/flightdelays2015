{
 "cells": [
  {
   "cell_type": "code",
   "execution_count": 56,
   "metadata": {},
   "outputs": [],
   "source": [
    "import pandas as pd\n",
    "import numpy as np\n",
    "import os\n",
    "from datetime import datetime as dt\n",
    "import matplotlib.pyplot as plt\n",
    "import seaborn as sns\n",
    "\n",
    "pd.set_option(\"display.max_rows\", 200)"
   ]
  },
  {
   "cell_type": "code",
   "execution_count": 57,
   "metadata": {},
   "outputs": [],
   "source": [
    "fullest = pd.read_csv(\"Data/flights.csv\")"
   ]
  },
  {
   "cell_type": "code",
   "execution_count": 59,
   "metadata": {
    "scrolled": true
   },
   "outputs": [
    {
     "name": "stdout",
     "output_type": "stream",
     "text": [
      "0 484922\n",
      "484923 969845\n",
      "969846 1454768\n",
      "1454769 1939691\n",
      "1939692 2424614\n",
      "2424615 2909537\n",
      "2909538 3394460\n",
      "3394461 3879383\n",
      "3879384 4364306\n",
      "4364307 4849229\n",
      "4849230 5334152\n",
      "5334153 5819078\n"
     ]
    }
   ],
   "source": [
    "rowcount       = len(fullest)\n",
    "partitions     = 12\n",
    "partition_size = int(rowcount / partitions)\n",
    "part_num_list  = [i+1 for i in range(partitions)]\n",
    "index_range    = []\n",
    "curr_min       = 0\n",
    "\n",
    "for part_num in part_num_list:\n",
    "    if part_num < max(part_num_list):\n",
    "        index_range.append((curr_min, partition_size * part_num))\n",
    "        curr_min += partition_size\n",
    "    else:\n",
    "        index_range.append((curr_min, rowcount + 1))\n",
    "    \n",
    "df_dict = {}\n",
    "for n, part_num in enumerate(part_num_list):\n",
    "    start_pos, end_pos = index_range[n]\n",
    "    df_dict[\"flights_part_{}\".format(str(part_num).zfill(2))] = fullest.loc[start_pos : end_pos - 1, :]\n",
    "   \n",
    "totalcount = 0\n",
    "for df_name, df in df_dict.items():\n",
    "    print(min(df.index), max(df.index))\n",
    "    totalcount += len(df)\n",
    "    df.to_csv(\"Data/{}.csv\".format(df_name), index = False)"
   ]
  },
  {
   "cell_type": "code",
   "execution_count": 58,
   "metadata": {},
   "outputs": [
    {
     "name": "stdout",
     "output_type": "stream",
     "text": [
      "5819079\n",
      "5819079\n"
     ]
    }
   ],
   "source": [
    "print(totalcount)\n",
    "print(rowcount)"
   ]
  }
 ],
 "metadata": {
  "kernelspec": {
   "display_name": "Python 3",
   "language": "python",
   "name": "python3"
  },
  "language_info": {
   "codemirror_mode": {
    "name": "ipython",
    "version": 3
   },
   "file_extension": ".py",
   "mimetype": "text/x-python",
   "name": "python",
   "nbconvert_exporter": "python",
   "pygments_lexer": "ipython3",
   "version": "3.8.5"
  }
 },
 "nbformat": 4,
 "nbformat_minor": 4
}
